{
  "cells": [
    {
      "cell_type": "markdown",
      "source": [
        "# Exploratory analysis on song features\n",
        "#### In this part we analyze the song features from the top hits of our database and try to discover some trends. \n",
        "#### First of all, we load the songs' features from our JSON file to a Pandas dataframe: 2918 rows and 33 features. "
      ],
      "metadata": {}
    },
    {
      "cell_type": "markdown",
      "source": [
        "#### We were able to produce many graphs: we can see for instance see on this correlation heatmap the correlation between all the different features across all songs. We also plotted the correlation between the two most correlated features. \n",
        "\n",
        "<img src=\"../data/expl_top_corr.png\" width=600>\n",
        "\n",
        "\n"
      ],
      "metadata": {}
    },
    {
      "cell_type": "markdown",
      "source": [
        "\n",
        "#### From this correlation graph we can see the positive correlation of all pairs of features from our songs. For instance, the two highest correlated features are energy and loudness, which makes sense. \n",
        "\n",
        "#### We can also see the negative correlations. The highest negative correlation is between energy and acousticness: basically lound songs aren't acoustic. "
      ],
      "metadata": {}
    },
    {
      "cell_type": "markdown",
      "source": [
        "#### We also plotted some boxplots to identify how the features evolved over time. For example, acousticness seems to have decreased as well over time, probably due to the emergence of electronic-based musics which contain less real acoustic instruments that \"traditional\" songs. \n",
        "\n",
        "#### We were also able to discover how are the most popular artists over time, and what artists have the strongest link with the different features. \n",
        "\n",
        "<img src=\"../data/expl_top_loud.png\" width=400>\n"
      ],
      "metadata": {}
    },
    {
      "cell_type": "markdown",
      "source": [
        "#### For example, we can see on this wordcloud that Pitbull is the artist whose songs are the loudest. \n"
      ],
      "metadata": {}
    }
  ],
  "metadata": {
    "kernel_info": {
      "name": "python3"
    },
    "kernelspec": {
      "name": "python3",
      "language": "python",
      "display_name": "Python 3"
    },
    "language_info": {
      "name": "python",
      "version": "3.7.3",
      "mimetype": "text/x-python",
      "codemirror_mode": {
        "name": "ipython",
        "version": 3
      },
      "pygments_lexer": "ipython3",
      "nbconvert_exporter": "python",
      "file_extension": ".py"
    },
    "nteract": {
      "version": "0.15.0"
    }
  },
  "nbformat": 4,
  "nbformat_minor": 4
}