{
  "cells": [
    {
      "cell_type": "markdown",
      "source": [
        "### not finished\n",
        "# Lyrics analysis"
      ],
      "metadata": {}
    },
    {
      "cell_type": "code",
      "source": [
        "import pandas as pd\n",
        "import json\n",
        "import nltk\n",
        "from nltk.corpus import stopwords\n",
        "import re\n",
        "import spacy\n",
        "import enchant\n",
        "\n",
        "file_url = '/Users/Samuel/Documents/GitHub/DMML2019_Team_Tesla/data/top_hits_lyrics.json'\n",
        "\n",
        "with open(file_url) as f:\n",
        "   data = json.load(f)\n",
        "\n",
        "df = pd.DataFrame(data)\n",
        "df = df.drop(['source'], axis=1)\n",
        "\n",
        "stop_words = set(stopwords.words('english'))\n",
        "d = enchant.Dict(\"en_US\")\n",
        "\n",
        "df.head()"
      ],
      "outputs": [
        {
          "output_type": "execute_result",
          "execution_count": 2,
          "data": {
            "text/plain": [
              "                       id                                             lyrics\n",
              "0  1rfofaqEpACxVEHIZBJe6W  [[Intro: Pharrell Williams], \\nHey, \\n, \\n[Cho...\n",
              "1  6rPO02ozF3bM7NnOV4h6s2  [[Letra de \"Despacito\" ft. Daddy Yankee], \\n, ...\n",
              "2  7mldq42yDuxiUNn08nvzHO  [[Verse 1], \\n, Got a girl from the south side...\n",
              "3  1bhUWB0zJMIKr9yVPrkEuI  [[Verse 1: Ed Sheeran], \\n, I found a love for...\n",
              "4  7iDa6hUg2VgEL1o1HjmfBn  [[Verse 1: Florida Georgia Line], \\nBaby, lay ..."
            ],
            "text/html": [
              "<div>\n",
              "<style scoped>\n",
              "    .dataframe tbody tr th:only-of-type {\n",
              "        vertical-align: middle;\n",
              "    }\n",
              "\n",
              "    .dataframe tbody tr th {\n",
              "        vertical-align: top;\n",
              "    }\n",
              "\n",
              "    .dataframe thead th {\n",
              "        text-align: right;\n",
              "    }\n",
              "</style>\n",
              "<table border=\"1\" class=\"dataframe\">\n",
              "  <thead>\n",
              "    <tr style=\"text-align: right;\">\n",
              "      <th></th>\n",
              "      <th>id</th>\n",
              "      <th>lyrics</th>\n",
              "    </tr>\n",
              "  </thead>\n",
              "  <tbody>\n",
              "    <tr>\n",
              "      <th>0</th>\n",
              "      <td>1rfofaqEpACxVEHIZBJe6W</td>\n",
              "      <td>[[Intro: Pharrell Williams], \\nHey, \\n, \\n[Cho...</td>\n",
              "    </tr>\n",
              "    <tr>\n",
              "      <th>1</th>\n",
              "      <td>6rPO02ozF3bM7NnOV4h6s2</td>\n",
              "      <td>[[Letra de \"Despacito\" ft. Daddy Yankee], \\n, ...</td>\n",
              "    </tr>\n",
              "    <tr>\n",
              "      <th>2</th>\n",
              "      <td>7mldq42yDuxiUNn08nvzHO</td>\n",
              "      <td>[[Verse 1], \\n, Got a girl from the south side...</td>\n",
              "    </tr>\n",
              "    <tr>\n",
              "      <th>3</th>\n",
              "      <td>1bhUWB0zJMIKr9yVPrkEuI</td>\n",
              "      <td>[[Verse 1: Ed Sheeran], \\n, I found a love for...</td>\n",
              "    </tr>\n",
              "    <tr>\n",
              "      <th>4</th>\n",
              "      <td>7iDa6hUg2VgEL1o1HjmfBn</td>\n",
              "      <td>[[Verse 1: Florida Georgia Line], \\nBaby, lay ...</td>\n",
              "    </tr>\n",
              "  </tbody>\n",
              "</table>\n",
              "</div>"
            ]
          },
          "metadata": {}
        }
      ],
      "execution_count": 2,
      "metadata": {
        "collapsed": false,
        "outputHidden": false,
        "inputHidden": false
      }
    },
    {
      "cell_type": "code",
      "source": [
        "lyrics = df['lyrics']\n",
        "\n",
        "i = 0    \n",
        "while i<len(lyrics):\n",
        "    lyric = lyrics[i]\n",
        "    for x in lyrics:\n",
        "        x.split(' ')\n",
        "        if d.check(x)==False:\n",
        "            del x\n",
        "        \n",
        "    #lyric.lower()\n",
        "    #lyric.split()\n",
        "    \n",
        "    print(\"-------------------------------- id: \" + str(df['id'][i]))\n",
        "    \n",
        "    print(\"-------------------------------- # words:\" + str(len(lyric)))\n",
        "    \n",
        "    print(lyric)\n",
        "    \n",
        "    i += 1\n",
        "\n",
        "\n",
        "# Marija's code\n",
        "'''\n",
        "master_words = dict()\n",
        "for playlist_name in master_list:\n",
        "    playlist = master_list[playlist_name]\n",
        "    words = []\n",
        "    for song in playlist:\n",
        "        lyrics = song['lyrics']\n",
        "        lyrics = re.sub('\\[.*?\\]','',lyrics)\n",
        "        lyrics = lyrics.lower()\n",
        "        lyrics = lyrics.translate(str.maketrans('', '', string.punctuation))\n",
        "        lyrics = lyrics.split()\n",
        "        lyrics = [w for w in lyrics if w not in stop_words]\n",
        "        words.extend(lyrics)\n",
        "    master_words[playlist_name] = words\n",
        "    print(playlist_name)\n",
        "    print(pd.Series(master_words[playlist_name]).value_counts().head(20))\n",
        "    print()\n",
        "'''"
      ],
      "outputs": [
        {
          "output_type": "error",
          "ename": "Error",
          "evalue": "Don't pass bytestrings to pyenchant",
          "traceback": [
            "\u001b[0;31m---------------------------------------------------------------------------\u001b[0m",
            "\u001b[0;31mError\u001b[0m                                     Traceback (most recent call last)",
            "\u001b[0;32m<ipython-input-8-a2f2fba7a31b>\u001b[0m in \u001b[0;36m<module>\u001b[0;34m\u001b[0m\n\u001b[1;32m      6\u001b[0m     \u001b[0;32mfor\u001b[0m \u001b[0mx\u001b[0m \u001b[0;32min\u001b[0m \u001b[0mlyrics\u001b[0m\u001b[0;34m:\u001b[0m\u001b[0;34m\u001b[0m\u001b[0;34m\u001b[0m\u001b[0m\n\u001b[1;32m      7\u001b[0m \u001b[0;34m\u001b[0m\u001b[0m\n\u001b[0;32m----> 8\u001b[0;31m         \u001b[0;32mif\u001b[0m \u001b[0md\u001b[0m\u001b[0;34m.\u001b[0m\u001b[0mcheck\u001b[0m\u001b[0;34m(\u001b[0m\u001b[0mx\u001b[0m\u001b[0;34m)\u001b[0m\u001b[0;34m==\u001b[0m\u001b[0;32mFalse\u001b[0m\u001b[0;34m:\u001b[0m\u001b[0;34m\u001b[0m\u001b[0;34m\u001b[0m\u001b[0m\n\u001b[0m\u001b[1;32m      9\u001b[0m             \u001b[0;32mdel\u001b[0m \u001b[0mx\u001b[0m\u001b[0;34m\u001b[0m\u001b[0;34m\u001b[0m\u001b[0m\n\u001b[1;32m     10\u001b[0m \u001b[0;34m\u001b[0m\u001b[0m\n",
            "\u001b[0;32m~/anaconda3/lib/python3.7/site-packages/enchant/__init__.py\u001b[0m in \u001b[0;36mcheck\u001b[0;34m(self, word)\u001b[0m\n\u001b[1;32m    645\u001b[0m         \"\"\"\n\u001b[1;32m    646\u001b[0m         \u001b[0mself\u001b[0m\u001b[0;34m.\u001b[0m\u001b[0m_check_this\u001b[0m\u001b[0;34m(\u001b[0m\u001b[0;34m)\u001b[0m\u001b[0;34m\u001b[0m\u001b[0;34m\u001b[0m\u001b[0m\n\u001b[0;32m--> 647\u001b[0;31m         \u001b[0mword\u001b[0m \u001b[0;34m=\u001b[0m \u001b[0mself\u001b[0m\u001b[0;34m.\u001b[0m\u001b[0m_StringClass\u001b[0m\u001b[0;34m(\u001b[0m\u001b[0mword\u001b[0m\u001b[0;34m)\u001b[0m\u001b[0;34m\u001b[0m\u001b[0;34m\u001b[0m\u001b[0m\n\u001b[0m\u001b[1;32m    648\u001b[0m         \u001b[0;31m# Enchant asserts that the word is non-empty.\u001b[0m\u001b[0;34m\u001b[0m\u001b[0;34m\u001b[0m\u001b[0;34m\u001b[0m\u001b[0m\n\u001b[1;32m    649\u001b[0m         \u001b[0;31m# Check it up-front to avoid nasty warnings on stderr.\u001b[0m\u001b[0;34m\u001b[0m\u001b[0;34m\u001b[0m\u001b[0;34m\u001b[0m\u001b[0m\n",
            "\u001b[0;32m~/anaconda3/lib/python3.7/site-packages/enchant/utils.py\u001b[0m in \u001b[0;36m__new__\u001b[0;34m(cls, value)\u001b[0m\n\u001b[1;32m    150\u001b[0m             \u001b[0mwas_unicode\u001b[0m \u001b[0;34m=\u001b[0m \u001b[0;32mFalse\u001b[0m\u001b[0;34m\u001b[0m\u001b[0;34m\u001b[0m\u001b[0m\n\u001b[1;32m    151\u001b[0m             \u001b[0;32mif\u001b[0m \u001b[0mstr\u001b[0m \u001b[0;32mis\u001b[0m \u001b[0;32mnot\u001b[0m \u001b[0mbytes\u001b[0m\u001b[0;34m:\u001b[0m\u001b[0;34m\u001b[0m\u001b[0;34m\u001b[0m\u001b[0m\n\u001b[0;32m--> 152\u001b[0;31m                 \u001b[0;32mraise\u001b[0m \u001b[0mError\u001b[0m\u001b[0;34m(\u001b[0m\u001b[0;34m\"Don't pass bytestrings to pyenchant\"\u001b[0m\u001b[0;34m)\u001b[0m\u001b[0;34m\u001b[0m\u001b[0;34m\u001b[0m\u001b[0m\n\u001b[0m\u001b[1;32m    153\u001b[0m         \u001b[0mself\u001b[0m \u001b[0;34m=\u001b[0m \u001b[0mstr\u001b[0m\u001b[0;34m.\u001b[0m\u001b[0m__new__\u001b[0m\u001b[0;34m(\u001b[0m\u001b[0mcls\u001b[0m\u001b[0;34m,\u001b[0m\u001b[0mvalue\u001b[0m\u001b[0;34m)\u001b[0m\u001b[0;34m\u001b[0m\u001b[0;34m\u001b[0m\u001b[0m\n\u001b[1;32m    154\u001b[0m         \u001b[0mself\u001b[0m\u001b[0;34m.\u001b[0m\u001b[0m_was_unicode\u001b[0m \u001b[0;34m=\u001b[0m \u001b[0mwas_unicode\u001b[0m\u001b[0;34m\u001b[0m\u001b[0;34m\u001b[0m\u001b[0m\n",
            "\u001b[0;31mError\u001b[0m: Don't pass bytestrings to pyenchant"
          ]
        }
      ],
      "execution_count": 8,
      "metadata": {
        "collapsed": false,
        "outputHidden": false,
        "inputHidden": false
      }
    },
    {
      "cell_type": "code",
      "source": [],
      "outputs": [],
      "execution_count": null,
      "metadata": {}
    }
  ],
  "metadata": {
    "kernelspec": {
      "name": "python3",
      "language": "python",
      "display_name": "Python 3"
    },
    "language_info": {
      "name": "python",
      "version": "3.7.3",
      "mimetype": "text/x-python",
      "codemirror_mode": {
        "name": "ipython",
        "version": 3
      },
      "pygments_lexer": "ipython3",
      "nbconvert_exporter": "python",
      "file_extension": ".py"
    },
    "kernel_info": {
      "name": "python3"
    },
    "nteract": {
      "version": "0.15.0"
    }
  },
  "nbformat": 4,
  "nbformat_minor": 2
}