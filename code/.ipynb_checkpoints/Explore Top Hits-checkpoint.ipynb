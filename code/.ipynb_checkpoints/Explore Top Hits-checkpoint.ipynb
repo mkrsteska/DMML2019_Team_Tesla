{
 "cells": [
  {
   "cell_type": "code",
   "execution_count": 1,
   "metadata": {},
   "outputs": [],
   "source": [
    "import json\n",
    "import requests\n",
    "from bs4 import BeautifulSoup\n",
    "import string\n",
    "import pandas as pd\n",
    "import seaborn as sns\n",
    "import numpy as np\n",
    "import matplotlib.pyplot as plt\n",
    "from sklearn.linear_model import LinearRegression\n",
    "from sklearn.metrics import mean_squared_error \n",
    "from wordcloud import WordCloud"
   ]
  },
  {
   "cell_type": "code",
   "execution_count": 6,
   "metadata": {},
   "outputs": [],
   "source": [
    "TRACKS_FILE_NAME = 'top_hits.json'"
   ]
  },
  {
   "cell_type": "code",
   "execution_count": 7,
   "metadata": {},
   "outputs": [
    {
     "ename": "FileNotFoundError",
     "evalue": "[Errno 2] No such file or directory: 'data/TRACKS_FILE_NAME'",
     "output_type": "error",
     "traceback": [
      "\u001b[0;31m---------------------------------------------------------------------------\u001b[0m",
      "\u001b[0;31mFileNotFoundError\u001b[0m                         Traceback (most recent call last)",
      "\u001b[0;32m<ipython-input-7-385b829dfbc6>\u001b[0m in \u001b[0;36m<module>\u001b[0;34m\u001b[0m\n\u001b[0;32m----> 1\u001b[0;31m \u001b[0;32mwith\u001b[0m \u001b[0mopen\u001b[0m\u001b[0;34m(\u001b[0m\u001b[0;34m'data/TRACKS_FILE_NAME'\u001b[0m\u001b[0;34m)\u001b[0m \u001b[0;32mas\u001b[0m \u001b[0mjson_file\u001b[0m\u001b[0;34m:\u001b[0m\u001b[0;34m\u001b[0m\u001b[0;34m\u001b[0m\u001b[0m\n\u001b[0m\u001b[1;32m      2\u001b[0m     \u001b[0mtracks\u001b[0m \u001b[0;34m=\u001b[0m \u001b[0mjson\u001b[0m\u001b[0;34m.\u001b[0m\u001b[0mload\u001b[0m\u001b[0;34m(\u001b[0m\u001b[0mjson_file\u001b[0m\u001b[0;34m)\u001b[0m\u001b[0;34m\u001b[0m\u001b[0;34m\u001b[0m\u001b[0m\n",
      "\u001b[0;31mFileNotFoundError\u001b[0m: [Errno 2] No such file or directory: 'data/TRACKS_FILE_NAME'"
     ]
    }
   ],
   "source": [
    "with open('data/TRACKS_FILE_NAME') as json_file:\n",
    "    tracks = json.load(json_file)"
   ]
  },
  {
   "cell_type": "code",
   "execution_count": null,
   "metadata": {},
   "outputs": [],
   "source": [
    "df = pd.DataFrame(tracks)"
   ]
  },
  {
   "cell_type": "code",
   "execution_count": null,
   "metadata": {},
   "outputs": [],
   "source": [
    "df.shape"
   ]
  },
  {
   "cell_type": "code",
   "execution_count": null,
   "metadata": {},
   "outputs": [],
   "source": [
    "df['year']=df['album'].apply(lambda x: x.get('release_date')[:4])\n",
    "df['decade'] = df['year'].apply(lambda x: x[:3]+'0')"
   ]
  },
  {
   "cell_type": "code",
   "execution_count": null,
   "metadata": {},
   "outputs": [],
   "source": [
    "df['primary_artist'] = df['artists'].apply(lambda x: x[0]['name'])"
   ]
  },
  {
   "cell_type": "code",
   "execution_count": null,
   "metadata": {},
   "outputs": [],
   "source": [
    "df['artists'] = df['artists'].apply(lambda x: [artist['name'] for artist in x])"
   ]
  },
  {
   "cell_type": "code",
   "execution_count": null,
   "metadata": {},
   "outputs": [],
   "source": [
    "df.columns"
   ]
  },
  {
   "cell_type": "markdown",
   "metadata": {},
   "source": [
    "### Distributions"
   ]
  },
  {
   "cell_type": "code",
   "execution_count": null,
   "metadata": {},
   "outputs": [],
   "source": [
    "ax = df[['acousticness', 'danceability', 'duration_ms', 'energy',\n",
    "           'explicit', 'instrumentalness', 'liveness', 'loudness', 'mode',\n",
    "           'popularity', 'speechiness', 'tempo', 'time_signature', 'valence']].\\\n",
    "            hist(figsize=(16,12), bins=20, alpha=0.75);\n",
    "ax = ax.ravel()\n",
    "plt.tight_layout()\n",
    "\n",
    "titles = ['Acousticness', 'Danceability', 'Duration (miliseconds)', 'Energy',\n",
    "          'Explicit', 'Instrumentalness', 'Liveness', 'Loudness (dB)', 'Mode',\n",
    "          'Popularity', 'Speechiness', 'Tempo', 'Time Signature', 'Valence']\n",
    "\n",
    "for i in range(len(ax)-2):\n",
    "    ax[i].set_title(titles[i])\n",
    "    if i % 4 == 0:\n",
    "        ax[i].set_ylabel('Number of Songs')\n",
    "plt.suptitle('Distributions of Spotify Audio Features', fontsize=20, y=1.05);\n",
    "plt.show()"
   ]
  },
  {
   "cell_type": "markdown",
   "metadata": {},
   "source": [
    "### Correlation heatmap "
   ]
  },
  {
   "cell_type": "code",
   "execution_count": null,
   "metadata": {},
   "outputs": [],
   "source": [
    "num_df_attributes = df[['acousticness', 'danceability', 'duration_ms', 'energy',\n",
    "           'instrumentalness', 'liveness', 'loudness', 'mode',\n",
    "           'popularity', 'speechiness', 'tempo', 'time_signature', 'valence']]\n",
    "\n",
    "num_df_attributes.corr('spearman')['popularity']"
   ]
  },
  {
   "cell_type": "code",
   "execution_count": null,
   "metadata": {},
   "outputs": [],
   "source": [
    "fig, ax = plt.subplots(figsize=(12,12))   \n",
    "sns.heatmap(\n",
    "    num_df_attributes.corr(), \n",
    "    vmin=-1, vmax=1, center=0,\n",
    "    cmap=sns.diverging_palette(20, 220, n=200),\n",
    "    square=True,\n",
    "    annot=True,\n",
    "    ax = ax\n",
    ")"
   ]
  },
  {
   "cell_type": "code",
   "execution_count": null,
   "metadata": {},
   "outputs": [],
   "source": [
    "ax = sns.regplot(x=df['energy'], y=df['loudness'], line_kws= {'linewidth': 1, 'color': 'red'}, scatter_kws={'s': 1})\n",
    "ax.set(title='Correlation: 0.68')\n",
    "ax.set(xlabel='Energy', ylabel='Loudness (dB)')\n",
    "plt.show()"
   ]
  },
  {
   "cell_type": "markdown",
   "metadata": {},
   "source": [
    "### Boxplots over decades"
   ]
  },
  {
   "cell_type": "code",
   "execution_count": null,
   "metadata": {},
   "outputs": [],
   "source": [
    "audio_features=['acousticness', 'danceability', 'duration_ms', 'energy', 'instrumentalness',\n",
    "                'liveness', 'loudness', 'speechiness', 'tempo', 'valence']"
   ]
  },
  {
   "cell_type": "code",
   "execution_count": null,
   "metadata": {
    "scrolled": true
   },
   "outputs": [],
   "source": [
    "for feature in audio_features:\n",
    "    fig, ax = plt.subplots(figsize=(8,8))\n",
    "    plt.suptitle('')\n",
    "    ax.grid(False)\n",
    "    df.boxplot(column=[feature], by='decade', ax=ax, showfliers=False, grid=False)\n",
    "    plt.show()"
   ]
  },
  {
   "cell_type": "markdown",
   "metadata": {},
   "source": [
    "### Most populart artists"
   ]
  },
  {
   "cell_type": "code",
   "execution_count": null,
   "metadata": {},
   "outputs": [],
   "source": [
    "df['primary_artist'].value_counts().head(10)"
   ]
  },
  {
   "cell_type": "code",
   "execution_count": null,
   "metadata": {},
   "outputs": [],
   "source": [
    "ax = df['primary_artist'].value_counts().sort_values().tail(20).plot.barh(figsize=(12,7))\n",
    "ax.set(xlabel='Number of Hits')\n",
    "ax.set_title('Most Popular Artists', fontsize=15)"
   ]
  },
  {
   "cell_type": "code",
   "execution_count": null,
   "metadata": {},
   "outputs": [],
   "source": [
    "top_artists = df.groupby('primary_artist')['name'].count()\n",
    "top_artists = top_artists[top_artists >= 5]\n",
    "audio_features=['acousticness', 'danceability', 'energy','instrumentalness', \n",
    "                'liveness', 'loudness', 'speechiness', 'tempo', 'valence']\n",
    "X_artists = df.groupby('primary_artist')[audio_features].mean()\n",
    "X_artists = X_artists.reindex(top_artists.index)"
   ]
  },
  {
   "cell_type": "code",
   "execution_count": null,
   "metadata": {},
   "outputs": [],
   "source": [
    "fig, ax = plt.subplots(3, 3, figsize=(16,15))\n",
    "ax = ax.ravel()\n",
    "\n",
    "for i in range(len(audio_features)):\n",
    "    # word-weight dictionary\n",
    "    feature = X_artists[audio_features[i]] + 1e-3\n",
    "    dictionary = dict(zip(X_artists.index, feature))\n",
    "    \n",
    "    wordcloud = WordCloud(background_color='white', height=1400, width=1400, min_font_size=5, max_font_size=300)\n",
    "    wordcloud = wordcloud.generate_from_frequencies(dictionary)\n",
    "    \n",
    "    ax[i].imshow(wordcloud, interpolation='bilinear')\n",
    "    ax[i].set_title(audio_features[i])\n",
    "    ax[i].axis('off')"
   ]
  }
 ],
 "metadata": {
  "kernelspec": {
   "display_name": "Python 3",
   "language": "python",
   "name": "python3"
  },
  "language_info": {
   "codemirror_mode": {
    "name": "ipython",
    "version": 3
   },
   "file_extension": ".py",
   "mimetype": "text/x-python",
   "name": "python",
   "nbconvert_exporter": "python",
   "pygments_lexer": "ipython3",
   "version": "3.7.3"
  }
 },
 "nbformat": 4,
 "nbformat_minor": 2
}
