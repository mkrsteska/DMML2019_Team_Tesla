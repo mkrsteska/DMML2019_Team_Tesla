{
 "cells": [
  {
   "cell_type": "code",
   "execution_count": null,
   "metadata": {},
   "outputs": [],
   "source": [
    "import json\n",
    "import requests\n",
    "import bs4\n",
    "import string\n",
    "import re\n",
    "import html\n",
    "import unidecode"
   ]
  },
  {
   "cell_type": "code",
   "execution_count": null,
   "metadata": {},
   "outputs": [],
   "source": [
    "TRACKS_FILE_NAME = '../data/songs.json'\n",
    "LYRICS_FILE_NAME = 'songs_lyrics_5000.json'"
   ]
  },
  {
   "cell_type": "code",
   "execution_count": null,
   "metadata": {},
   "outputs": [],
   "source": [
    "with open(TRACKS_FILE_NAME) as json_file:\n",
    "    tracks = json.load(json_file)"
   ]
  },
  {
   "cell_type": "code",
   "execution_count": null,
   "metadata": {},
   "outputs": [],
   "source": [
    "def clean_name(name):\n",
    "    name = name.replace('-', ' ')\n",
    "    name = re.sub(r'[^\\w\\s]','', name)\n",
    "    name = unidecode.unidecode(name)\n",
    "    return name"
   ]
  },
  {
   "cell_type": "code",
   "execution_count": null,
   "metadata": {
    "scrolled": false
   },
   "outputs": [],
   "source": [
    "lyrics_list = list() # collector for lyric strings or None if no lyrics found\n",
    "\n",
    "for index, track in enumerate(tracks[:5000]):\n",
    "    artist = track['artists'][0]['name']\n",
    "    artist = artist.replace('&', 'and')\n",
    "    artist = clean_name(artist)\n",
    "    artist_2 = re.sub(r'^the ', '', artist) # if initial round fails\n",
    "    song = track['name']\n",
    "    song = song.partition('-')[0]\n",
    "    song = song.partition('(')[0]\n",
    "    song = song.strip()\n",
    "    song = clean_name(song)\n",
    "    source = None\n",
    "    \n",
    "    # generate URLs for each website. some uses dashes in place of \n",
    "    # whitespaces, others use underscores\n",
    "    urls = list()\n",
    "    metro_url = 'http://metrolyrics.com/{}-lyrics-{}.html'.format(\n",
    "        song.replace(' ', '-'), artist.replace(' ', '-'))\n",
    "    song_url = 'http://songlyrics.com/{}/{}-lyrics/'.format(\n",
    "        artist.replace(' ', '-'), song.replace(' ', '-'))\n",
    "    mode_url = 'http://www.lyricsmode.com/lyrics/{}/{}/{}.html'.format(\n",
    "        artist[0], artist.replace(' ', '_'), song.replace(' ', '_'))\n",
    "    genius_url = 'https://genius.com/{}-{}-lyrics'.format(\n",
    "        artist.replace(' ', '-'), song.replace(' ', '-'))\n",
    "    urls.extend([genius_url, song_url, mode_url, metro_url])\n",
    "    if artist != artist_2:\n",
    "        genius_url = 'https://genius.com/{}-{}-lyrics'.format(\n",
    "            artist_2.replace(' ', '-'), song.replace(' ', '-'))\n",
    "        metro_url = 'http://metrolyrics.com/{}-lyrics-{}.html'.format(\n",
    "                song.replace(' ', '-'), artist_2.replace(' ', '-'))\n",
    "        song_url = 'http://songlyrics.com/{}/{}-lyrics/'.format(\n",
    "            artist_2.replace(' ', '-'), song.replace(' ', '-'))\n",
    "        mode_url = 'http://www.lyricsmode.com/lyrics/{}/{}/{}.html'.format(\n",
    "            artist_2[0], artist_2.replace(' ', '_'), song.replace(' ', '_'))\n",
    "        urls.extend([genius_url, song_url, mode_url, metro_url])\n",
    "    \n",
    "    # attempt scrape and parse sequence. lyrics collected as list of tokens.\n",
    "    for url in urls:\n",
    "        try:\n",
    "            # request HTML and parse\n",
    "            html = requests.get(url=url).content\n",
    "            soup = bs4.BeautifulSoup(html)\n",
    "            \n",
    "            # find lyrics and pre-process\n",
    "            if 'genius.com' in url:\n",
    "                print(url)\n",
    "                lyrics = soup\\\n",
    "                    .find('div', {'class': 'lyrics'})\\\n",
    "                    .find('p')\\\n",
    "                    .findAll(text=True)\n",
    "                if lyrics is None:\n",
    "                    raise Exception\n",
    "                source = 'genius.com'\n",
    "                \n",
    "            # for songlyrics.com, if no lyrics found, a message is displayed\n",
    "            # where lyrics would be. thus, we check for this message instead.\n",
    "            if 'songlyrics' in url:\n",
    "                print(url)\n",
    "                lyrics = soup\\\n",
    "                    .find('p', {'id': 'songLyricsDiv'})\\\n",
    "                    .findAll(text=True)\n",
    "                if 'Sorry, we have no ' in lyrics[0] or 'We do not have the lyrics' in lyrics[0]:\n",
    "                    lyrics = None\n",
    "                    raise Exception\n",
    "                source = 'songlyrics.com'\n",
    "            if 'lyricsmode' in url:\n",
    "                print(url)\n",
    "                lyrics = soup.find('p', {'id': 'lyrics_text'})\n",
    "                if lyrics is None:\n",
    "                    raise Exception\n",
    "                lyrics = lyrics.text.split()\n",
    "                source = 'lyricsmode.com'\n",
    "            if 'metrolyrics' in url:\n",
    "                print(url)\n",
    "                lyrics = soup.find('div', {'id': 'lyrics-body-text'})\n",
    "                if lyrics is None:\n",
    "                    raise Exception\n",
    "                lyrics = [line.findAll(text=True)\\\n",
    "                          for line in soup.findAll('p', {'class': 'verse'})]\n",
    "                lyrics = [item for sublist in lyrics for item in sublist]\n",
    "                source = 'metrolyrics.com'\n",
    "            \n",
    "            break\n",
    "        except Exception as e:\n",
    "            print(e)\n",
    "    lyrics_list.append({'id': track['id'], 'lyrics': lyrics, 'source': source})"
   ]
  },
  {
   "cell_type": "code",
   "execution_count": null,
   "metadata": {},
   "outputs": [],
   "source": [
    "with open(LYRICS_FILE_NAME, 'w') as f:\n",
    "    json.dump(lyrics_list, f)"
   ]
  },
  {
   "cell_type": "code",
   "execution_count": null,
   "metadata": {},
   "outputs": [],
   "source": [
    "len(lyrics_list)"
   ]
  },
  {
   "cell_type": "code",
   "execution_count": null,
   "metadata": {},
   "outputs": [],
   "source": []
  }
 ],
 "metadata": {
  "kernelspec": {
   "display_name": "Python 3",
   "language": "python",
   "name": "python3"
  },
  "language_info": {
   "codemirror_mode": {
    "name": "ipython",
    "version": 3
   },
   "file_extension": ".py",
   "mimetype": "text/x-python",
   "name": "python",
   "nbconvert_exporter": "python",
   "pygments_lexer": "ipython3",
   "version": "3.7.3"
  }
 },
 "nbformat": 4,
 "nbformat_minor": 2
}
