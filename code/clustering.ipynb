{
 "cells": [
  {
   "cell_type": "markdown",
   "metadata": {
    "colab_type": "text",
    "id": "yLGau1WinVwb"
   },
   "source": [
    "**Clustering** "
   ]
  },
  {
   "cell_type": "markdown",
   "metadata": {
    "colab_type": "text",
    "id": "FFxPm5r7DN_q"
   },
   "source": [
    "**Importing the mandatory librairies**"
   ]
  },
  {
   "cell_type": "code",
   "execution_count": 1,
   "metadata": {
    "colab": {
     "base_uri": "https://localhost:8080/",
     "height": 224
    },
    "colab_type": "code",
    "id": "4wQHYEtBnZtF",
    "outputId": "028040f0-7290-463b-c0f1-b7282f1b710e"
   },
   "outputs": [
    {
     "name": "stderr",
     "output_type": "stream",
     "text": [
      "[nltk_data] Downloading package wordnet to\n",
      "[nltk_data]     /Users/yassinhediger/nltk_data...\n",
      "[nltk_data]   Package wordnet is already up-to-date!\n",
      "[nltk_data] Downloading package punkt to\n",
      "[nltk_data]     /Users/yassinhediger/nltk_data...\n",
      "[nltk_data]   Package punkt is already up-to-date!\n"
     ]
    },
    {
     "name": "stdout",
     "output_type": "stream",
     "text": [
      "Requirement already satisfied: en_core_web_sm==2.0.0 from https://github.com/explosion/spacy-models/releases/download/en_core_web_sm-2.0.0/en_core_web_sm-2.0.0.tar.gz#egg=en_core_web_sm==2.0.0 in /Users/yassinhediger/anaconda3/lib/python3.7/site-packages (2.0.0)\n",
      "\n",
      "\u001b[93m    Linking successful\u001b[0m\n",
      "    /Users/yassinhediger/anaconda3/lib/python3.7/site-packages/en_core_web_sm\n",
      "    -->\n",
      "    /Users/yassinhediger/anaconda3/lib/python3.7/site-packages/spacy/data/en\n",
      "\n",
      "    You can now load the model via spacy.load('en')\n",
      "\n"
     ]
    }
   ],
   "source": [
    "import json\n",
    "import numpy as np\n",
    "from pandas.io.json import json_normalize\n",
    "import pandas as pd\n",
    "import matplotlib.pyplot as plt\n",
    "import re\n",
    "import nltk\n",
    "from sklearn.cluster import KMeans\n",
    "nltk.download('wordnet')\n",
    "nltk.download('punkt')\n",
    "from sklearn.model_selection import train_test_split\n",
    "from nltk.corpus import stopwords\n",
    "from gensim.models.doc2vec import TaggedDocument\n",
    "import multiprocessing\n",
    "from gensim.models import Doc2Vec\n",
    "from tqdm import tqdm\n",
    "from sklearn import utils\n",
    "from sklearn.linear_model import LogisticRegression\n",
    "from sklearn.metrics import accuracy_score, f1_score\n",
    "from nltk.stem import WordNetLemmatizer \n",
    "from sklearn.feature_extraction.text import CountVectorizer,TfidfVectorizer\n",
    "from sklearn.base import TransformerMixin\n",
    "from sklearn.pipeline import Pipeline\n",
    "import spacy\n",
    "from sklearn.ensemble import RandomForestClassifier\n",
    "!python -m spacy download en\n",
    "import string\n",
    "from spacy.lang.en.stop_words import STOP_WORDS\n",
    "from spacy.lang.en import English"
   ]
  },
  {
   "cell_type": "markdown",
   "metadata": {
    "colab_type": "text",
    "id": "1PQWd5FkDWS_"
   },
   "source": [
    "**Opening the data:**\n",
    "\n",
    "We import data contained in two json files:\n",
    "\n",
    "\n",
    "\n",
    "*   top_hits_lyrics.json\n",
    "*   not_hits_lyrics.json\n",
    "\n"
   ]
  },
  {
   "cell_type": "code",
   "execution_count": 2,
   "metadata": {
    "colab": {},
    "colab_type": "code",
    "id": "1ftwCIDDoPxd"
   },
   "outputs": [],
   "source": [
    "with open('../data/top_hits_lyrics.json') as json_file:\n",
    "    top_hits_lyrics = json.load(json_file)\n",
    "with open('../data/not_hits_lyrics.json') as json_file:\n",
    "    not_hits_lyrics = json.load(json_file)\n"
   ]
  },
  {
   "cell_type": "markdown",
   "metadata": {
    "colab_type": "text",
    "id": "vAz6MM-BEM9b"
   },
   "source": [
    "**We clean the data**\n",
    "\n",
    "We re-use the method present in the classification notebook to clean the text"
   ]
  },
  {
   "cell_type": "code",
   "execution_count": 3,
   "metadata": {
    "colab": {},
    "colab_type": "code",
    "id": "OyERlf_FTZRE"
   },
   "outputs": [],
   "source": [
    "def clean_lyrics(lyrics):\n",
    "    if lyrics is None:\n",
    "        return lyrics\n",
    "    \n",
    "    # combine lists of tokens into single string\n",
    "    lyrics = ' '.join(lyrics)\n",
    "            \n",
    "    # remove apostrophes\n",
    "    lyrics = lyrics.replace('\\'', '')\n",
    "            \n",
    "    # remove song structure tags or instructions in brackets\n",
    "    lyrics = re.sub(r'[\\*\\[|\\(|\\{].*\\n*.*[\\]\\)\\}\\*]' , ' ', lyrics)\n",
    "   \n",
    "    # remove variations of Verse 1, VERSE 2, etc...\n",
    "    for verse in ['verse', 'VERSE', 'Verse']:\n",
    "        lyrics = re.sub(verse+' \\d*', '', lyrics)\n",
    "    \n",
    "    # some structure markers formatted as allcaps without brackets\n",
    "    for word in ['OUTRO', 'INSTRUMENTAL', 'PRE', 'HOOK',\n",
    "                 'PRODUCED', 'REFRAIN', 'POST', 'REPEAT', '2x', '3x', '4x',\n",
    "                 'CHORUS', 'INTRO', 'INTERLUDE']:\n",
    "        lyrics = lyrics.replace(word, '')\n",
    "        \n",
    "    # remove varations of Chorus\n",
    "    lyrics = re.sub(r'\\n*Chorus:*.*' , ' ', lyrics)\n",
    "    lyrics = re.sub(r'^Chorus:*.*' , ' ', lyrics)\n",
    "    lyrics = re.sub(r'\\nRepeat [C|c]horus:*.*' , ' ', lyrics)\n",
    "    \n",
    "    # remove variations of Intro\n",
    "    lyrics = re.sub(r'Intro[\\s|\\n|:].*', ' ', lyrics)\n",
    "    \n",
    "    # remove variations of Instrumental\n",
    "    lyrics = re.sub(r'-+.*[i|I]nstrumental.*-+', ' ', lyrics)\n",
    "    lyrics = re.sub(r'\\nBrief instrumental.*\\n', ' ', lyrics)\n",
    "    lyrics = re.sub(r'\\nInstrumental', ' ', lyrics)\n",
    "    lyrics = re.sub(r'\\nInstrumental break', ' ', lyrics)\n",
    "    lyrics = re.sub(r'\\nInstrumental--', ' ', lyrics)\n",
    "    lyrics = re.sub(r'\\n~Instrumental~', ' ', lyrics)\n",
    "    \n",
    "    # remove variations of Bridge\n",
    "    lyrics = re.sub(r'\\n\\[*Bridge:\\[*', ' ', lyrics)\n",
    "    \n",
    "    # remove variations of Hook\n",
    "    lyrics = re.sub(r'Hook:.*', ' ', lyrics)\n",
    "    \n",
    "    # remove varations of Repeat\n",
    "    lyrics = re.sub(r'Repeat\\s.*', ' ', lyrics)\n",
    "    lyrics = re.sub(r'\\nRepeat$', ' ', lyrics)\n",
    "    \n",
    "    # remove credits\n",
    "    lyrics = re.sub(r'.*[P|p]roduced [B|b]y.*', ' ', lyrics)\n",
    "    lyrics = re.sub(r'.*[W|w]ritten [B|b]y.*', ' ', lyrics)\n",
    "    \n",
    "    # remove strays and typos\n",
    "    lyrics = re.sub(r'\\[Outro\\[', ' ', lyrics)\n",
    "    lyrics = re.sub(r'Sax & background & instrumental\\)', ' ', lyrics)\n",
    "    lyrics = re.sub(r'\\nSource: ', ' ', lyrics)\n",
    "    lyrics = re.sub(r'Shotgun 2: 58 Trk 1 \\n  \\nJr. Walker & The All Stars '\\\n",
    "                    +'\\nAnd/or The Funk Brothers - instrumental \\nPop Chart '\\\n",
    "                    +'#4 Feb 13, 1965 \\nSoul Label - 35008   \\n ', ' ', lyrics)\n",
    "    lyrics = re.sub(r'- musical interlude -', ' ', lyrics)\n",
    "    lyrics = re.sub(r'\\nRefrain:', ' ', lyrics)\n",
    "            \n",
    "    # replace all punctuations with spaces\n",
    "    lyrics = re.sub(r'[^\\w\\s]', ' ', lyrics)\n",
    "            \n",
    "    # replace consecutive whitespaces with single space\n",
    "    lyrics = re.sub(r'\\s+', ' ', lyrics)\n",
    "    \n",
    "    # convert all tokens to lowercase\n",
    "    lyrics = lyrics.lower()\n",
    "\n",
    "    if lyrics[:29] == 'we do not have the lyrics for' or lyrics == 'instrumental':\n",
    "        lyrics = None\n",
    "    return lyrics"
   ]
  },
  {
   "cell_type": "markdown",
   "metadata": {
    "colab_type": "text",
    "id": "KSSybUR-EgMV"
   },
   "source": [
    "**Json to Dataframe**\n",
    "\n",
    "We transform Json encoded file to panda DataFrame. We apply the the method to clean the text. "
   ]
  },
  {
   "cell_type": "code",
   "execution_count": 4,
   "metadata": {
    "colab": {},
    "colab_type": "code",
    "id": "FK84Z89EXGOq"
   },
   "outputs": [],
   "source": [
    "top_hits_df = pd.DataFrame(top_hits_lyrics)\n",
    "top_hits_df['clean_lyrics'] = top_hits_df['lyrics'].apply(lambda x: clean_lyrics(x))\n",
    "top_hits_df = top_hits_df[top_hits_df['source'].notnull()]\n",
    "top_hits_df = top_hits_df[top_hits_df['clean_lyrics'].notnull()]"
   ]
  },
  {
   "cell_type": "code",
   "execution_count": 5,
   "metadata": {
    "colab": {},
    "colab_type": "code",
    "id": "BJsmnmhEl4JA"
   },
   "outputs": [],
   "source": [
    "not_hits_df = pd.DataFrame(not_hits_lyrics)\n",
    "not_hits_df['clean_lyrics'] = not_hits_df['lyrics'].apply(lambda x: clean_lyrics(x))\n",
    "not_hits_df = not_hits_df[not_hits_df['source'].notnull()]\n",
    "not_hits_df = not_hits_df[not_hits_df['clean_lyrics'].notnull()]"
   ]
  },
  {
   "cell_type": "markdown",
   "metadata": {
    "colab_type": "text",
    "id": "YjI4SESsEzIX"
   },
   "source": [
    "**Merging the Dataframes**\n",
    "\n",
    "We merge not hit and hit Dataframe and we create a class coloumns to recognise from which dataframe the data comes"
   ]
  },
  {
   "cell_type": "code",
   "execution_count": 6,
   "metadata": {
    "colab": {},
    "colab_type": "code",
    "id": "4CADzwTxk6AU"
   },
   "outputs": [],
   "source": [
    "top_hits_df['class'] = 1\n",
    "not_hits_df['class'] = 0\n",
    "df = pd.concat([top_hits_df, not_hits_df])\n"
   ]
  },
  {
   "cell_type": "markdown",
   "metadata": {
    "colab_type": "text",
    "id": "zfE5W5vRFMHn"
   },
   "source": [
    "**Tokenising the text**\n",
    "\n",
    "We tokenise the text to be able to vectorize it then. It creates an Array with all the words. Each of them can this way be analysed separatly"
   ]
  },
  {
   "cell_type": "code",
   "execution_count": 7,
   "metadata": {
    "colab": {},
    "colab_type": "code",
    "id": "OVrk690HsF-2"
   },
   "outputs": [],
   "source": [
    "import string\n",
    "from spacy.lang.en.stop_words import STOP_WORDS\n",
    "from spacy.lang.en import English\n",
    "\n",
    "# Create our list of punctuation marks\n",
    "punctuations = string.punctuation\n",
    "\n",
    "# Create our list of stopwords\n",
    "nlp = spacy.load('en')\n",
    "stop_words = spacy.lang.en.stop_words.STOP_WORDS\n",
    "\n",
    "# Load English tokenizer, tagger, parser, NER and word vectors\n",
    "parser = English()\n",
    "\n",
    "# Creating our tokenizer function\n",
    "def spacy_tokenizer(sentence):\n",
    "    # Creating our token object, which is used to create documents with linguistic annotations.\n",
    "    mytokens = parser(sentence)\n",
    "\n",
    "    # Lemmatizing each token and converting each token into lowercase\n",
    "    mytokens = [ word.lemma_.lower().strip() if word.lemma_ != \"-PRON-\" else word.lower_ for word in mytokens ]\n",
    "\n",
    "    # Removing stop words\n",
    "    mytokens = [ word for word in mytokens if word not in stop_words and word not in punctuations ]\n",
    "\n",
    "    # return preprocessed list of tokens\n",
    "    return mytokens"
   ]
  },
  {
   "cell_type": "code",
   "execution_count": 8,
   "metadata": {
    "colab": {},
    "colab_type": "code",
    "id": "x8WdeNVqtijG"
   },
   "outputs": [],
   "source": [
    "tfidf_vector = TfidfVectorizer(tokenizer = spacy_tokenizer)"
   ]
  },
  {
   "cell_type": "code",
   "execution_count": 9,
   "metadata": {
    "colab": {},
    "colab_type": "code",
    "id": "8n9xOnSetonU"
   },
   "outputs": [],
   "source": [
    "X = df['clean_lyrics'] # the features we want to analyze\n",
    "ylabels = df['class'] # the labels, or answers, we want to test against\n",
    "\n",
    "X_train, X_test, y_train, y_test = train_test_split(X, ylabels, test_size=0.3, random_state=72)"
   ]
  },
  {
   "cell_type": "code",
   "execution_count": 10,
   "metadata": {
    "colab": {
     "base_uri": "https://localhost:8080/",
     "height": 221
    },
    "colab_type": "code",
    "id": "4fau_UWbtyf0",
    "outputId": "96adf4df-9230-4979-949b-eb88ea245186"
   },
   "outputs": [
    {
     "data": {
      "text/plain": [
       "173     0\n",
       "92      1\n",
       "5900    0\n",
       "6857    0\n",
       "2645    0\n",
       "3203    0\n",
       "819     0\n",
       "2475    0\n",
       "7914    0\n",
       "1092    1\n",
       "9045    0\n",
       "6511    0\n",
       "8976    0\n",
       "810     0\n",
       "6297    0\n",
       "1703    1\n",
       "7492    0\n",
       "7309    0\n",
       "1083    0\n",
       "5001    0\n",
       "1265    0\n",
       "2219    0\n",
       "1464    1\n",
       "2426    1\n",
       "22      1\n",
       "210     1\n",
       "1201    0\n",
       "2607    1\n",
       "2609    1\n",
       "7791    0\n",
       "       ..\n",
       "7575    0\n",
       "5064    0\n",
       "1254    1\n",
       "5491    0\n",
       "8077    0\n",
       "790     0\n",
       "1620    0\n",
       "139     0\n",
       "691     1\n",
       "739     0\n",
       "989     1\n",
       "3660    0\n",
       "3248    0\n",
       "1762    0\n",
       "467     1\n",
       "4867    0\n",
       "2035    1\n",
       "329     0\n",
       "468     1\n",
       "1562    1\n",
       "7108    0\n",
       "6264    0\n",
       "1792    1\n",
       "5624    0\n",
       "5785    0\n",
       "86      0\n",
       "6350    0\n",
       "1224    0\n",
       "5493    0\n",
       "2684    0\n",
       "Name: class, Length: 7519, dtype: int64"
      ]
     },
     "execution_count": 10,
     "metadata": {},
     "output_type": "execute_result"
    }
   ],
   "source": [
    "from sklearn.feature_extraction.text import TfidfVectorizer\n",
    "v = TfidfVectorizer()\n",
    "X_train_vec = v.fit_transform(X_train)\n",
    "X_test_vec = v.fit_transform(X_train)\n",
    "\n",
    "y_train"
   ]
  },
  {
   "cell_type": "code",
   "execution_count": 11,
   "metadata": {
    "colab": {
     "base_uri": "https://localhost:8080/",
     "height": 68
    },
    "colab_type": "code",
    "id": "k12cbwcd3oSb",
    "outputId": "588addde-a4a9-492a-bac8-e22a49772d91"
   },
   "outputs": [
    {
     "data": {
      "text/plain": [
       "KMeans(algorithm='auto', copy_x=True, init='k-means++', max_iter=500,\n",
       "       n_clusters=2, n_init=10, n_jobs=None, precompute_distances='auto',\n",
       "       random_state=None, tol=0.0001, verbose=0)"
      ]
     },
     "execution_count": 11,
     "metadata": {},
     "output_type": "execute_result"
    }
   ],
   "source": [
    "NUMBER_OF_CLUSTERS = 2\n",
    "km = KMeans(\n",
    "    n_clusters=NUMBER_OF_CLUSTERS, \n",
    "    init='k-means++', \n",
    "    max_iter=500)\n",
    "km.fit(X_train_vec)"
   ]
  },
  {
   "cell_type": "code",
   "execution_count": 12,
   "metadata": {
    "colab": {},
    "colab_type": "code",
    "id": "5QuzGsXS4Y2i"
   },
   "outputs": [],
   "source": [
    "from sklearn.decomposition import PCA\n",
    "\n",
    "# First: for every document we get its corresponding cluster\n",
    "clusters = km.predict(X_train_vec)\n",
    "\n",
    "# We train the PCA on the dense version of the tf-idf. \n",
    "pca = PCA(n_components=2)\n",
    "two_dim = pca.fit_transform(X_train_vec.todense())\n",
    "\n",
    "scatter_x = two_dim[:, 0] # first principle component\n",
    "scatter_y = two_dim[:, 1] # second principle component"
   ]
  },
  {
   "cell_type": "code",
   "execution_count": 13,
   "metadata": {
    "colab": {
     "base_uri": "https://localhost:8080/",
     "height": 337
    },
    "colab_type": "code",
    "id": "RqjIb-gy4efu",
    "outputId": "fee2fe41-4b7f-4125-d6a4-b13204bfd5a7"
   },
   "outputs": [
    {
     "data": {
      "image/png": "[encoded data removed]",
      "text/plain": [
       "<Figure size 720x360 with 1 Axes>"
      ]
     },
     "metadata": {},
     "output_type": "display_data"
    }
   ],
   "source": [
    "plt.style.use('ggplot')\n",
    "\n",
    "fig, ax = plt.subplots()\n",
    "fig.set_size_inches(10,5)\n",
    "\n",
    "# color map for NUMBER_OF_CLUSTERS we have\n",
    "cmap = {0: 'green', 1: 'blue'}\n",
    "\n",
    "# group by clusters and scatter plot every cluster\n",
    "# with a colour and a label\n",
    "for group in np.unique(clusters):\n",
    "    ix = np.where(clusters == group)\n",
    "    ax.scatter(scatter_x[ix], scatter_y[ix], c=cmap[group], label=group)\n",
    "\n",
    "ax.legend()\n",
    "plt.xlabel(\"PCA 0\")\n",
    "plt.ylabel(\"PCA 1\")\n",
    "plt.show()"
   ]
  },
  {
   "cell_type": "code",
   "execution_count": 14,
   "metadata": {
    "colab": {
     "base_uri": "https://localhost:8080/",
     "height": 316
    },
    "colab_type": "code",
    "id": "glPgxajx7IYs",
    "outputId": "5ce6c0f4-44f4-4acd-86f1-a295d47f25f0"
   },
   "outputs": [
    {
     "data": {
      "text/plain": [
       "Text(0.5, 1.0, 'ground truth')"
      ]
     },
     "execution_count": 14,
     "metadata": {},
     "output_type": "execute_result"
    },
    {
     "data": {
      "image/png": "[encoded data removed]",
      "text/plain": [
       "<Figure size 432x288 with 1 Axes>"
      ]
     },
     "metadata": {},
     "output_type": "display_data"
    }
   ],
   "source": [
    "plt.scatter(scatter_x[ix], scatter_y[ix],\n",
    "               c=cmap[group], label=group)\n",
    "plt.xlabel(\"PCA 0\")\n",
    "plt.ylabel(\"PCA 1\")\n",
    "plt.title('ground truth')"
   ]
  },
  {
   "cell_type": "code",
   "execution_count": 15,
   "metadata": {
    "colab": {
     "base_uri": "https://localhost:8080/",
     "height": 68
    },
    "colab_type": "code",
    "id": "iBgoPTX79if2",
    "outputId": "a4e560c1-2d65-4104-b39d-f02dda882ec7"
   },
   "outputs": [
    {
     "data": {
      "text/plain": [
       "KMeans(algorithm='auto', copy_x=True, init='k-means++', max_iter=300,\n",
       "       n_clusters=3, n_init=10, n_jobs=None, precompute_distances='auto',\n",
       "       random_state=None, tol=0.0001, verbose=0)"
      ]
     },
     "execution_count": 15,
     "metadata": {},
     "output_type": "execute_result"
    }
   ],
   "source": [
    "est = KMeans(n_clusters=3)\n",
    "est.fit(X_train_vec, y_train)"
   ]
  },
  {
   "cell_type": "code",
   "execution_count": 16,
   "metadata": {
    "colab": {
     "base_uri": "https://localhost:8080/",
     "height": 34
    },
    "colab_type": "code",
    "id": "ygADYY1j-TEO",
    "outputId": "098b13af-3021-4081-d9d8-e5b232f115c2"
   },
   "outputs": [
    {
     "data": {
      "text/plain": [
       "array([2, 2, 2, ..., 2, 1, 2], dtype=int32)"
      ]
     },
     "execution_count": 16,
     "metadata": {},
     "output_type": "execute_result"
    }
   ],
   "source": [
    "est.labels_"
   ]
  },
  {
   "cell_type": "code",
   "execution_count": 17,
   "metadata": {
    "colab": {
     "base_uri": "https://localhost:8080/",
     "height": 34
    },
    "colab_type": "code",
    "id": "KlhZhYbq-WwE",
    "outputId": "50280bb7-b4ef-4a80-ee05-2711a4d7be59"
   },
   "outputs": [
    {
     "data": {
      "text/plain": [
       "array([0, 1, 0, ..., 0, 0, 0])"
      ]
     },
     "execution_count": 17,
     "metadata": {},
     "output_type": "execute_result"
    }
   ],
   "source": [
    "y_train.values"
   ]
  },
  {
   "cell_type": "code",
   "execution_count": 18,
   "metadata": {
    "colab": {
     "base_uri": "https://localhost:8080/",
     "height": 34
    },
    "colab_type": "code",
    "id": "8Gxc7pCz-y-F",
    "outputId": "665c9dab-46d6-4840-91d2-35b9b18234f0"
   },
   "outputs": [
    {
     "data": {
      "text/plain": [
       "0.29578401383162656"
      ]
     },
     "execution_count": 18,
     "metadata": {},
     "output_type": "execute_result"
    }
   ],
   "source": [
    "# how accurate are the kmeans labels\n",
    "sum([1 if x else 0 for x in (est.labels_ == y_train.values)]) / len(est.labels_)"
   ]
  },
  {
   "cell_type": "code",
   "execution_count": 19,
   "metadata": {},
   "outputs": [],
   "source": [
    "from sklearn.cluster import AgglomerativeClustering"
   ]
  },
  {
   "cell_type": "code",
   "execution_count": 20,
   "metadata": {},
   "outputs": [
    {
     "name": "stdout",
     "output_type": "stream",
     "text": [
      "CPU times: user 14min 57s, sys: 1.81 s, total: 14min 59s\n",
      "Wall time: 14min 59s\n"
     ]
    },
    {
     "data": {
      "text/plain": [
       "AgglomerativeClustering(affinity='euclidean', compute_full_tree='auto',\n",
       "                        connectivity=None, distance_threshold=None,\n",
       "                        linkage='ward', memory=None, n_clusters=3,\n",
       "                        pooling_func='deprecated')"
      ]
     },
     "execution_count": 20,
     "metadata": {},
     "output_type": "execute_result"
    }
   ],
   "source": [
    "%%time\n",
    "clustering = AgglomerativeClustering(n_clusters=3)\n",
    "clustering.fit(X_train_vec.toarray(), y_train.values)\n"
   ]
  },
  {
   "cell_type": "code",
   "execution_count": 21,
   "metadata": {},
   "outputs": [
    {
     "data": {
      "text/plain": [
       "array([1, 2, 2, ..., 2, 2, 2])"
      ]
     },
     "execution_count": 21,
     "metadata": {},
     "output_type": "execute_result"
    }
   ],
   "source": [
    "clustering.labels_"
   ]
  },
  {
   "cell_type": "code",
   "execution_count": 22,
   "metadata": {},
   "outputs": [
    {
     "data": {
      "text/plain": [
       "array([0, 1, 0, ..., 0, 0, 0])"
      ]
     },
     "execution_count": 22,
     "metadata": {},
     "output_type": "execute_result"
    }
   ],
   "source": [
    "y_train.values"
   ]
  },
  {
   "cell_type": "code",
   "execution_count": 23,
   "metadata": {},
   "outputs": [
    {
     "data": {
      "text/plain": [
       "array([1., 2., 1., ..., 1., 1., 1.])"
      ]
     },
     "execution_count": 23,
     "metadata": {},
     "output_type": "execute_result"
    }
   ],
   "source": [
    "reordered_target = np.zeros(len(y_train.values))\n",
    "reordered_target[np.where(y_train.values==0)[0]] = 1\n",
    "reordered_target[np.where(y_train.values==1)[0]] = 2\n",
    "reordered_target"
   ]
  },
  {
   "cell_type": "code",
   "execution_count": 24,
   "metadata": {},
   "outputs": [
    {
     "data": {
      "text/plain": [
       "0.36454315733475195"
      ]
     },
     "execution_count": 24,
     "metadata": {},
     "output_type": "execute_result"
    }
   ],
   "source": [
    "sum([1 if x else 0 for x in (clustering.labels_ == reordered_target)]) / len(clustering.labels_)"
   ]
  },
  {
   "cell_type": "code",
   "execution_count": null,
   "metadata": {},
   "outputs": [],
   "source": [
    "import scipy #scientific computations\n",
    "from scipy.cluster.hierarchy import dendrogram, linkage #hierarchical clustering\n",
    "from sklearn.cluster import AgglomerativeClustering\n",
    "\n",
    "Z = linkage(X_train_vec.toarray(),'ward') #linkage: single, average, complete\n",
    "plt.figure(figsize=(25, 10))\n",
    "plt.title('Hierarchical Clustering Dendrogram', fontsize=20)\n",
    "plt.xlabel('Number of points in node (or index of point if no parenthesis)', fontsize=20)\n",
    "plt.ylabel('distance', fontsize=20)\n",
    "dendrogram(\n",
    "    Z,\n",
    "    leaf_rotation=90.,  # rotates the x axis labels\n",
    "    leaf_font_size=8.)   # font size for the x axis labels\n",
    "plt.show()"
   ]
  },
  {
   "cell_type": "code",
   "execution_count": null,
   "metadata": {},
   "outputs": [],
   "source": []
  }
 ],
 "metadata": {
  "colab": {
   "collapsed_sections": [],
   "name": "clustering_project.ipynb",
   "provenance": []
  },
  "kernelspec": {
   "display_name": "Python 3",
   "language": "python",
   "name": "python3"
  },
  "language_info": {
   "codemirror_mode": {
    "name": "ipython",
    "version": 3
   },
   "file_extension": ".py",
   "mimetype": "text/x-python",
   "name": "python",
   "nbconvert_exporter": "python",
   "pygments_lexer": "ipython3",
   "version": "3.7.3"
  }
 },
 "nbformat": 4,
 "nbformat_minor": 1
}
