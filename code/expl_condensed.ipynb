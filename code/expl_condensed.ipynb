{
  "cells": [
    {
      "cell_type": "markdown",
      "source": [
        "# Exploratory analysis on lyrics\n",
        "#### In this notebook, we explore some trends that can be extracted from the lyrics. \n",
        "#### First of all, we load the lyrics from our JSON file to a Pandas dataframe: 5396 rows and 39 columns (features). \n"
      ],
      "metadata": {}
    },
    {
      "cell_type": "markdown",
      "source": [
        "<img src=\"../data/expl_df.png\">"
      ],
      "metadata": {}
    },
    {
      "cell_type": "markdown",
      "source": [
        "#### Then, we removed stopwords and non-English words to compute wordclouds of the most popular words overtime and per decade. "
      ],
      "metadata": {}
    },
    {
      "cell_type": "markdown",
      "source": [
        "<img src=\"../data/expl_wc.png\">"
      ],
      "metadata": {}
    },
    {
      "cell_type": "markdown",
      "source": [
        "#### We can see that older songs contain more words such as \"love\", \"sunshine\", \"world\", whereas more recent songs contain more words such as \"money\", \"b**tch\", or \"time\". This could reveal some global change in our society, that express themselves naturally in the music. "
      ],
      "metadata": {}
    }
  ],
  "metadata": {
    "kernelspec": {
      "name": "python3",
      "language": "python",
      "display_name": "Python 3"
    },
    "language_info": {
      "name": "python",
      "version": "3.7.3",
      "mimetype": "text/x-python",
      "codemirror_mode": {
        "name": "ipython",
        "version": 3
      },
      "pygments_lexer": "ipython3",
      "nbconvert_exporter": "python",
      "file_extension": ".py"
    },
    "kernel_info": {
      "name": "python3"
    },
    "nteract": {
      "version": "0.15.0"
    }
  },
  "nbformat": 4,
  "nbformat_minor": 2
}