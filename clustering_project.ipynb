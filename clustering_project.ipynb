{
  "nbformat": 4,
  "nbformat_minor": 0,
  "metadata": {
    "colab": {
      "name": "clustering_project.ipynb",
      "provenance": [],
      "collapsed_sections": []
    },
    "kernelspec": {
      "name": "python3",
      "display_name": "Python 3"
    }
  },
  "cells": [
    {
      "cell_type": "markdown",
      "metadata": {
        "id": "yLGau1WinVwb",
        "colab_type": "text"
      },
      "source": [
        "**Clustering** "
      ]
    },
    {
      "cell_type": "markdown",
      "metadata": {
        "id": "FFxPm5r7DN_q",
        "colab_type": "text"
      },
      "source": [
        "**Importing the mandatory librairies**"
      ]
    },
    {
      "cell_type": "code",
      "metadata": {
        "id": "4wQHYEtBnZtF",
        "colab_type": "code",
        "outputId": "028040f0-7290-463b-c0f1-b7282f1b710e",
        "colab": {
          "base_uri": "https://localhost:8080/",
          "height": 224
        }
      },
      "source": [
        "import json\n",
        "import numpy as np\n",
        "from pandas.io.json import json_normalize\n",
        "import pandas as pd\n",
        "import matplotlib.pyplot as plt\n",
        "import re\n",
        "import nltk\n",
        "from sklearn.cluster import KMeans\n",
        "nltk.download('wordnet')\n",
        "nltk.download('punkt')\n",
        "from sklearn.model_selection import train_test_split\n",
        "from nltk.corpus import stopwords\n",
        "from gensim.models.doc2vec import TaggedDocument\n",
        "import multiprocessing\n",
        "from gensim.models import Doc2Vec\n",
        "from tqdm import tqdm\n",
        "from sklearn import utils\n",
        "from sklearn.linear_model import LogisticRegression\n",
        "from sklearn.metrics import accuracy_score, f1_score\n",
        "from nltk.stem import WordNetLemmatizer \n",
        "from sklearn.feature_extraction.text import CountVectorizer,TfidfVectorizer\n",
        "from sklearn.base import TransformerMixin\n",
        "from sklearn.pipeline import Pipeline\n",
        "import spacy\n",
        "from sklearn.ensemble import RandomForestClassifier\n",
        "!python -m spacy download en\n",
        "import string\n",
        "from spacy.lang.en.stop_words import STOP_WORDS\n",
        "from spacy.lang.en import English"
      ],
      "execution_count": 56,
      "outputs": [
        {
          "output_type": "stream",
          "text": [
            "[nltk_data] Downloading package wordnet to /root/nltk_data...\n",
            "[nltk_data]   Package wordnet is already up-to-date!\n",
            "[nltk_data] Downloading package punkt to /root/nltk_data...\n",
            "[nltk_data]   Package punkt is already up-to-date!\n",
            "Requirement already satisfied: en_core_web_sm==2.1.0 from https://github.com/explosion/spacy-models/releases/download/en_core_web_sm-2.1.0/en_core_web_sm-2.1.0.tar.gz#egg=en_core_web_sm==2.1.0 in /usr/local/lib/python3.6/dist-packages (2.1.0)\n",
            "\u001b[38;5;2m✔ Download and installation successful\u001b[0m\n",
            "You can now load the model via spacy.load('en_core_web_sm')\n",
            "\u001b[38;5;2m✔ Linking successful\u001b[0m\n",
            "/usr/local/lib/python3.6/dist-packages/en_core_web_sm -->\n",
            "/usr/local/lib/python3.6/dist-packages/spacy/data/en\n",
            "You can now load the model via spacy.load('en')\n"
          ],
          "name": "stdout"
        }
      ]
    },
    {
      "cell_type": "markdown",
      "metadata": {
        "id": "1PQWd5FkDWS_",
        "colab_type": "text"
      },
      "source": [
        "**Opening the data:**\n",
        "\n",
        "We import data contained in two json files:\n",
        "\n",
        "\n",
        "\n",
        "*   top_hits_lyrics.json\n",
        "*   not_hits_lyrics.json\n",
        "\n"
      ]
    },
    {
      "cell_type": "code",
      "metadata": {
        "id": "1ftwCIDDoPxd",
        "colab_type": "code",
        "colab": {}
      },
      "source": [
        "with open('../data/top_hits_lyrics.json') as json_file:\n",
        "    top_hits_lyrics = json.load(json_file)\n",
        "with open('../data/not_hits_lyrics.json') as json_file:\n",
        "    not_hits_lyrics = json.load(json_file)\n"
      ],
      "execution_count": 0,
      "outputs": []
    },
    {
      "cell_type": "markdown",
      "metadata": {
        "id": "vAz6MM-BEM9b",
        "colab_type": "text"
      },
      "source": [
        "**We clean the data**\n",
        "\n",
        "We re-use the method present in the classification notebook to clean the text"
      ]
    },
    {
      "cell_type": "code",
      "metadata": {
        "id": "OyERlf_FTZRE",
        "colab_type": "code",
        "colab": {}
      },
      "source": [
        "def clean_lyrics(lyrics):\n",
        "    if lyrics is None:\n",
        "        return lyrics\n",
        "    \n",
        "    # combine lists of tokens into single string\n",
        "    lyrics = ' '.join(lyrics)\n",
        "            \n",
        "    # remove apostrophes\n",
        "    lyrics = lyrics.replace('\\'', '')\n",
        "            \n",
        "    # remove song structure tags or instructions in brackets\n",
        "    lyrics = re.sub(r'[\\*\\[|\\(|\\{].*\\n*.*[\\]\\)\\}\\*]' , ' ', lyrics)\n",
        "   \n",
        "    # remove variations of Verse 1, VERSE 2, etc...\n",
        "    for verse in ['verse', 'VERSE', 'Verse']:\n",
        "        lyrics = re.sub(verse+' \\d*', '', lyrics)\n",
        "    \n",
        "    # some structure markers formatted as allcaps without brackets\n",
        "    for word in ['OUTRO', 'INSTRUMENTAL', 'PRE', 'HOOK',\n",
        "                 'PRODUCED', 'REFRAIN', 'POST', 'REPEAT', '2x', '3x', '4x',\n",
        "                 'CHORUS', 'INTRO', 'INTERLUDE']:\n",
        "        lyrics = lyrics.replace(word, '')\n",
        "        \n",
        "    # remove varations of Chorus\n",
        "    lyrics = re.sub(r'\\n*Chorus:*.*' , ' ', lyrics)\n",
        "    lyrics = re.sub(r'^Chorus:*.*' , ' ', lyrics)\n",
        "    lyrics = re.sub(r'\\nRepeat [C|c]horus:*.*' , ' ', lyrics)\n",
        "    \n",
        "    # remove variations of Intro\n",
        "    lyrics = re.sub(r'Intro[\\s|\\n|:].*', ' ', lyrics)\n",
        "    \n",
        "    # remove variations of Instrumental\n",
        "    lyrics = re.sub(r'-+.*[i|I]nstrumental.*-+', ' ', lyrics)\n",
        "    lyrics = re.sub(r'\\nBrief instrumental.*\\n', ' ', lyrics)\n",
        "    lyrics = re.sub(r'\\nInstrumental', ' ', lyrics)\n",
        "    lyrics = re.sub(r'\\nInstrumental break', ' ', lyrics)\n",
        "    lyrics = re.sub(r'\\nInstrumental--', ' ', lyrics)\n",
        "    lyrics = re.sub(r'\\n~Instrumental~', ' ', lyrics)\n",
        "    \n",
        "    # remove variations of Bridge\n",
        "    lyrics = re.sub(r'\\n\\[*Bridge:\\[*', ' ', lyrics)\n",
        "    \n",
        "    # remove variations of Hook\n",
        "    lyrics = re.sub(r'Hook:.*', ' ', lyrics)\n",
        "    \n",
        "    # remove varations of Repeat\n",
        "    lyrics = re.sub(r'Repeat\\s.*', ' ', lyrics)\n",
        "    lyrics = re.sub(r'\\nRepeat$', ' ', lyrics)\n",
        "    \n",
        "    # remove credits\n",
        "    lyrics = re.sub(r'.*[P|p]roduced [B|b]y.*', ' ', lyrics)\n",
        "    lyrics = re.sub(r'.*[W|w]ritten [B|b]y.*', ' ', lyrics)\n",
        "    \n",
        "    # remove strays and typos\n",
        "    lyrics = re.sub(r'\\[Outro\\[', ' ', lyrics)\n",
        "    lyrics = re.sub(r'Sax & background & instrumental\\)', ' ', lyrics)\n",
        "    lyrics = re.sub(r'\\nSource: ', ' ', lyrics)\n",
        "    lyrics = re.sub(r'Shotgun 2: 58 Trk 1 \\n  \\nJr. Walker & The All Stars '\\\n",
        "                    +'\\nAnd/or The Funk Brothers - instrumental \\nPop Chart '\\\n",
        "                    +'#4 Feb 13, 1965 \\nSoul Label - 35008   \\n ', ' ', lyrics)\n",
        "    lyrics = re.sub(r'- musical interlude -', ' ', lyrics)\n",
        "    lyrics = re.sub(r'\\nRefrain:', ' ', lyrics)\n",
        "            \n",
        "    # replace all punctuations with spaces\n",
        "    lyrics = re.sub(r'[^\\w\\s]', ' ', lyrics)\n",
        "            \n",
        "    # replace consecutive whitespaces with single space\n",
        "    lyrics = re.sub(r'\\s+', ' ', lyrics)\n",
        "    \n",
        "    # convert all tokens to lowercase\n",
        "    lyrics = lyrics.lower()\n",
        "\n",
        "    if lyrics[:29] == 'we do not have the lyrics for' or lyrics == 'instrumental':\n",
        "        lyrics = None\n",
        "    return lyrics"
      ],
      "execution_count": 0,
      "outputs": []
    },
    {
      "cell_type": "markdown",
      "metadata": {
        "id": "KSSybUR-EgMV",
        "colab_type": "text"
      },
      "source": [
        "**Json to Dataframe**\n",
        "\n",
        "We transform Json encoded file to panda DataFrame. We apply the the method to clean the text. "
      ]
    },
    {
      "cell_type": "code",
      "metadata": {
        "id": "FK84Z89EXGOq",
        "colab_type": "code",
        "colab": {}
      },
      "source": [
        "top_hits_df = pd.DataFrame(top_hits_lyrics)\n",
        "top_hits_df['clean_lyrics'] = top_hits_df['lyrics'].apply(lambda x: clean_lyrics(x))\n",
        "top_hits_df = top_hits_df[top_hits_df['source'].notnull()]\n",
        "top_hits_df = top_hits_df[top_hits_df['clean_lyrics'].notnull()]"
      ],
      "execution_count": 0,
      "outputs": []
    },
    {
      "cell_type": "code",
      "metadata": {
        "id": "BJsmnmhEl4JA",
        "colab_type": "code",
        "colab": {}
      },
      "source": [
        "not_hits_df = pd.DataFrame(not_hits_lyrics)\n",
        "not_hits_df['clean_lyrics'] = not_hits_df['lyrics'].apply(lambda x: clean_lyrics(x))\n",
        "not_hits_df = not_hits_df[not_hits_df['source'].notnull()]\n",
        "not_hits_df = not_hits_df[not_hits_df['clean_lyrics'].notnull()]"
      ],
      "execution_count": 0,
      "outputs": []
    },
    {
      "cell_type": "markdown",
      "metadata": {
        "id": "YjI4SESsEzIX",
        "colab_type": "text"
      },
      "source": [
        "**Merging the Dataframes**\n",
        "\n",
        "We merge not hit and hit Dataframe and we create a class coloumns to recognise from which dataframe the data comes"
      ]
    },
    {
      "cell_type": "code",
      "metadata": {
        "id": "4CADzwTxk6AU",
        "colab_type": "code",
        "colab": {}
      },
      "source": [
        "top_hits_df['class'] = 1\n",
        "not_hits_df['class'] = 0\n",
        "df = pd.concat([top_hits_df, not_hits_df])\n"
      ],
      "execution_count": 0,
      "outputs": []
    },
    {
      "cell_type": "markdown",
      "metadata": {
        "id": "zfE5W5vRFMHn",
        "colab_type": "text"
      },
      "source": [
        "**Tokenising the text**\n",
        "\n",
        "We tokenise the text to be able to vectorize it then. It creates an Array with all the words. Each of them can this way be analysed separatly"
      ]
    },
    {
      "cell_type": "code",
      "metadata": {
        "id": "OVrk690HsF-2",
        "colab_type": "code",
        "colab": {}
      },
      "source": [
        "import string\n",
        "from spacy.lang.en.stop_words import STOP_WORDS\n",
        "from spacy.lang.en import English\n",
        "\n",
        "# Create our list of punctuation marks\n",
        "punctuations = string.punctuation\n",
        "\n",
        "# Create our list of stopwords\n",
        "nlp = spacy.load('en')\n",
        "stop_words = spacy.lang.en.stop_words.STOP_WORDS\n",
        "\n",
        "# Load English tokenizer, tagger, parser, NER and word vectors\n",
        "parser = English()\n",
        "\n",
        "# Creating our tokenizer function\n",
        "def spacy_tokenizer(sentence):\n",
        "    # Creating our token object, which is used to create documents with linguistic annotations.\n",
        "    mytokens = parser(sentence)\n",
        "\n",
        "    # Lemmatizing each token and converting each token into lowercase\n",
        "    mytokens = [ word.lemma_.lower().strip() if word.lemma_ != \"-PRON-\" else word.lower_ for word in mytokens ]\n",
        "\n",
        "    # Removing stop words\n",
        "    mytokens = [ word for word in mytokens if word not in stop_words and word not in punctuations ]\n",
        "\n",
        "    # return preprocessed list of tokens\n",
        "    return mytokens"
      ],
      "execution_count": 0,
      "outputs": []
    },
    {
      "cell_type": "code",
      "metadata": {
        "id": "x8WdeNVqtijG",
        "colab_type": "code",
        "colab": {}
      },
      "source": [
        "tfidf_vector = TfidfVectorizer(tokenizer = spacy_tokenizer)"
      ],
      "execution_count": 0,
      "outputs": []
    },
    {
      "cell_type": "code",
      "metadata": {
        "id": "8n9xOnSetonU",
        "colab_type": "code",
        "colab": {}
      },
      "source": [
        "X = df['clean_lyrics'] # the features we want to analyze\n",
        "ylabels = df['class'] # the labels, or answers, we want to test against\n",
        "\n",
        "X_train, X_test, y_train, y_test = train_test_split(X, ylabels, test_size=0.3, random_state=72)"
      ],
      "execution_count": 0,
      "outputs": []
    },
    {
      "cell_type": "code",
      "metadata": {
        "id": "4fau_UWbtyf0",
        "colab_type": "code",
        "colab": {
          "base_uri": "https://localhost:8080/",
          "height": 221
        },
        "outputId": "96adf4df-9230-4979-949b-eb88ea245186"
      },
      "source": [
        "from sklearn.feature_extraction.text import TfidfVectorizer\n",
        "v = TfidfVectorizer()\n",
        "X_train_vec = v.fit_transform(X_train)\n",
        "X_test_vec = v.fit_transform(X_train)\n",
        "\n",
        "y_train"
      ],
      "execution_count": 65,
      "outputs": [
        {
          "output_type": "execute_result",
          "data": {
            "text/plain": [
              "173     0\n",
              "92      1\n",
              "5900    0\n",
              "6857    0\n",
              "2645    0\n",
              "       ..\n",
              "86      0\n",
              "6350    0\n",
              "1224    0\n",
              "5493    0\n",
              "2684    0\n",
              "Name: class, Length: 7519, dtype: int64"
            ]
          },
          "metadata": {
            "tags": []
          },
          "execution_count": 65
        }
      ]
    },
    {
      "cell_type": "code",
      "metadata": {
        "id": "k12cbwcd3oSb",
        "colab_type": "code",
        "colab": {
          "base_uri": "https://localhost:8080/",
          "height": 68
        },
        "outputId": "588addde-a4a9-492a-bac8-e22a49772d91"
      },
      "source": [
        "NUMBER_OF_CLUSTERS = 2\n",
        "km = KMeans(\n",
        "    n_clusters=NUMBER_OF_CLUSTERS, \n",
        "    init='k-means++', \n",
        "    max_iter=500)\n",
        "km.fit(X_train_vec)"
      ],
      "execution_count": 66,
      "outputs": [
        {
          "output_type": "execute_result",
          "data": {
            "text/plain": [
              "KMeans(algorithm='auto', copy_x=True, init='k-means++', max_iter=500,\n",
              "       n_clusters=2, n_init=10, n_jobs=None, precompute_distances='auto',\n",
              "       random_state=None, tol=0.0001, verbose=0)"
            ]
          },
          "metadata": {
            "tags": []
          },
          "execution_count": 66
        }
      ]
    },
    {
      "cell_type": "code",
      "metadata": {
        "id": "5QuzGsXS4Y2i",
        "colab_type": "code",
        "colab": {}
      },
      "source": [
        "from sklearn.decomposition import PCA\n",
        "\n",
        "# First: for every document we get its corresponding cluster\n",
        "clusters = km.predict(X_train_vec)\n",
        "\n",
        "# We train the PCA on the dense version of the tf-idf. \n",
        "pca = PCA(n_components=2)\n",
        "two_dim = pca.fit_transform(X_train_vec.todense())\n",
        "\n",
        "scatter_x = two_dim[:, 0] # first principle component\n",
        "scatter_y = two_dim[:, 1] # second principle component"
      ],
      "execution_count": 0,
      "outputs": []
    },
    {
      "cell_type": "code",
      "metadata": {
        "id": "RqjIb-gy4efu",
        "colab_type": "code",
        "colab": {
          "base_uri": "https://localhost:8080/",
          "height": 337
        },
        "outputId": "fee2fe41-4b7f-4125-d6a4-b13204bfd5a7"
      },
      "source": [
        "plt.style.use('ggplot')\n",
        "\n",
        "fig, ax = plt.subplots()\n",
        "fig.set_size_inches(10,5)\n",
        "\n",
        "# color map for NUMBER_OF_CLUSTERS we have\n",
        "cmap = {0: 'green', 1: 'blue'}\n",
        "\n",
        "# group by clusters and scatter plot every cluster\n",
        "# with a colour and a label\n",
        "for group in np.unique(clusters):\n",
        "    ix = np.where(clusters == group)\n",
        "    ax.scatter(scatter_x[ix], scatter_y[ix], c=cmap[group], label=group)\n",
        "\n",
        "ax.legend()\n",
        "plt.xlabel(\"PCA 0\")\n",
        "plt.ylabel(\"PCA 1\")\n",
        "plt.show()"
      ],
      "execution_count": 68,
      "outputs": [
        {
          "output_type": "display_data",
          "data": {
            "image/png": "[encoded data removed]",
            "text/plain": [
              "<Figure size 720x360 with 1 Axes>"
            ]
          },
          "metadata": {
            "tags": []
          }
        }
      ]
    },
    {
      "cell_type": "code",
      "metadata": {
        "id": "glPgxajx7IYs",
        "colab_type": "code",
        "colab": {
          "base_uri": "https://localhost:8080/",
          "height": 316
        },
        "outputId": "5ce6c0f4-44f4-4acd-86f1-a295d47f25f0"
      },
      "source": [
        "plt.scatter(scatter_x[ix], scatter_y[ix],\n",
        "               c=cmap[group], label=group)\n",
        "plt.xlabel(\"PCA 0\")\n",
        "plt.ylabel(\"PCA 1\")\n",
        "plt.title('ground truth')"
      ],
      "execution_count": 69,
      "outputs": [
        {
          "output_type": "execute_result",
          "data": {
            "text/plain": [
              "Text(0.5, 1.0, 'ground truth')"
            ]
          },
          "metadata": {
            "tags": []
          },
          "execution_count": 69
        },
        {
          "output_type": "display_data",
          "data": {
            "image/png": "[encoded data removed]",
            "text/plain": [
              "<Figure size 432x288 with 1 Axes>"
            ]
          },
          "metadata": {
            "tags": []
          }
        }
      ]
    },
    {
      "cell_type": "code",
      "metadata": {
        "id": "iBgoPTX79if2",
        "colab_type": "code",
        "colab": {
          "base_uri": "https://localhost:8080/",
          "height": 68
        },
        "outputId": "a4e560c1-2d65-4104-b39d-f02dda882ec7"
      },
      "source": [
        "est = KMeans(n_clusters=3)\n",
        "est.fit(X_train_vec, y_train)"
      ],
      "execution_count": 70,
      "outputs": [
        {
          "output_type": "execute_result",
          "data": {
            "text/plain": [
              "KMeans(algorithm='auto', copy_x=True, init='k-means++', max_iter=300,\n",
              "       n_clusters=3, n_init=10, n_jobs=None, precompute_distances='auto',\n",
              "       random_state=None, tol=0.0001, verbose=0)"
            ]
          },
          "metadata": {
            "tags": []
          },
          "execution_count": 70
        }
      ]
    },
    {
      "cell_type": "code",
      "metadata": {
        "id": "ygADYY1j-TEO",
        "colab_type": "code",
        "colab": {
          "base_uri": "https://localhost:8080/",
          "height": 34
        },
        "outputId": "098b13af-3021-4081-d9d8-e5b232f115c2"
      },
      "source": [
        "est.labels_"
      ],
      "execution_count": 71,
      "outputs": [
        {
          "output_type": "execute_result",
          "data": {
            "text/plain": [
              "array([0, 0, 0, ..., 0, 1, 0], dtype=int32)"
            ]
          },
          "metadata": {
            "tags": []
          },
          "execution_count": 71
        }
      ]
    },
    {
      "cell_type": "code",
      "metadata": {
        "id": "KlhZhYbq-WwE",
        "colab_type": "code",
        "colab": {
          "base_uri": "https://localhost:8080/",
          "height": 34
        },
        "outputId": "50280bb7-b4ef-4a80-ee05-2711a4d7be59"
      },
      "source": [
        "y_train.values"
      ],
      "execution_count": 72,
      "outputs": [
        {
          "output_type": "execute_result",
          "data": {
            "text/plain": [
              "array([0, 1, 0, ..., 0, 0, 0])"
            ]
          },
          "metadata": {
            "tags": []
          },
          "execution_count": 72
        }
      ]
    },
    {
      "cell_type": "code",
      "metadata": {
        "id": "8Gxc7pCz-y-F",
        "colab_type": "code",
        "colab": {
          "base_uri": "https://localhost:8080/",
          "height": 34
        },
        "outputId": "665c9dab-46d6-4840-91d2-35b9b18234f0"
      },
      "source": [
        "# how accurate are the kmeans labels\n",
        "sum([1 if x else 0 for x in (est.labels_ == y_train.values)]) / len(est.labels_)"
      ],
      "execution_count": 73,
      "outputs": [
        {
          "output_type": "execute_result",
          "data": {
            "text/plain": [
              "0.3399388216518154"
            ]
          },
          "metadata": {
            "tags": []
          },
          "execution_count": 73
        }
      ]
    }
  ]
}